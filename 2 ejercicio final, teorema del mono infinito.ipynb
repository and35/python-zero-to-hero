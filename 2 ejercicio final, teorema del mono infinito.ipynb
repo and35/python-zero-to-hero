{
 "cells": [
  {
   "cell_type": "markdown",
   "id": "012bb3f0",
   "metadata": {},
   "source": [
    "# Autoevaluación proyecto\n",
    "He aquí una autoevaluación que realmente cubre todo lo visto hasta ahora. Puede que usted haya oído hablar del teorema del mono infinito. El teorema dice que un mono golpeando las teclas, al azar y por por una cantidad infinita de tiempo, en un teclado de máquina de escribir casi con completa seguridad escribirá cualquier texto dado como por ejemplo las obras completas de William Shakespeare. Bueno, supongamos que vamos a reemplazar al mono con una función de Python. ¿Cuánto tiempo cree usted que le tomaría a una función de Python generar tan sólo una frase de Shakespeare? La frase que aspiramos generar es: “yo creo que parece una comadreja”.  \n",
    "\n",
    "Usted no querrá ejecutar esto en el navegador, así que abra su entorno de desarrollo de Python favorito. La forma en que vamos a simular esto es escribiendo una función que genere una cadena de 27 caracteres de longitud, mediante la elección aleatoria de cada caracter de entre las 26 letras del alfabeto más el espacio en blanco. Escribiremos otra función que calificará cada cadena generada aleatoriamente mediante su comparación con la cadena objetivo.  \n",
    "\n",
    "Una tercera función llamará repetidamente a las funciones generar y calificar, entonces habremos terminado si el 100% de las letras son correctas. Si las letras no son correctas, generaremos entonces una nueva cadena completa. Para hacer más fácil seguir el progreso de su programa, esta tercera función debe imprimir la mejor secuencia generada hasta el momento y su calificación correspondiente cada 1000 intentos.    \n",
    "\n",
    "## Reto de autoevaluación\n",
    "\n",
    "Vea si puede mejorar el programa de la autoevaluación manteniendo las letras que sean correctas y modificando sólo un carácter en la mejor secuencia hasta el momento. Éste es un tipo de algoritmo en la clase de algoritmos de ‘ascenso de colinas (hill climbing en la literatura en inglés)’, es decir, sólo mantenemos el resultado si es mejor que el anterior\n",
    "\n",
    "## consideracion \n",
    "ten en cuenta implementar una interfaz para ver como va evolucionando el codigo (usa clear output ), considera poner algun evaluador del grado de avance(en %)\n"
   ]
  },
  {
   "cell_type": "markdown",
   "id": "be98a825",
   "metadata": {},
   "source": [
    "# 1 lo primero que hare es buscar en internet una forma de tener una lista con todas las letras\n",
    "necesito una lista con todos las letras para poder permutar conbinaciones en base a esa coleccion de caracteres.  \n",
    "para esto buscare en google \"como tener un lista con todas las letras en python\". y de ahi obtube varias formas rapidas de tenerlo.  \n",
    "lo mas obvio es que podria crear esa lista manualemnte pero estamos automatizando todo lo mas posible. \n",
    "usaremos esto para obtener la lista.   \n",
    "\n",
    "list(map(chr, range(97, 123)))\n",
    "\n",
    "map() es una función que acepta dos argumentos: el segundo argumento de la función es un iterable o una colección(un rango); el primer argumento es una función para iterar sobre y manejar el segundo argumento (un diccionario donde esta contenido todos los caracteres).  \n",
    "\n",
    "En resumen mapa sacara los caracteres comprendidos desde 97 a 123 del diccionario chr.\n",
    "\n",
    "## 1.2 aprende los metodos del objeto list ya que estaras maniobrando mucho este objeto\n",
    "\n",
    "# creamos el generador de letras\n",
    "unca funcion que permute todos los caracteres y regrese una posible conbinacion del tamaño del texto que pedimos\n",
    " \n",
    "## 2.2 necesitamos una forma de sacar una letra de forma aleatoria de nuesta lista diccionario \n",
    "asi que busque \"como sacar un numero aleatorio de una lista en python\" y obtube una pagina llamada \"Generar números aleatorios en Python. Funciones principales\" vi todas las funciones y eje,plos y vi la opcion que mas se acercaba a lo que queria \n",
    "\n",
    "Obtener elementos aleatorios de una secuencia  \n",
    "Hasta ahora hemos visto cómo obtener números aleatorios en Python. A continuación veremos que también es posible obtener elementos aleatorios de una secuencia.  \n",
    "\n",
    "choice()  \n",
    "La función choice(sec) devuelve un elemento aleatorio de una secuencia. Es muy útil cuando hay que elegir al azar un elemento de entre un conjunto.  \n",
    "~~~~\n",
    "\n",
    ">>> import random\n",
    ">>> frutas = ['peras', 'manzanas', 'plátanos', 'ciruelas']\n",
    ">>> for i in range(3):\n",
    "...     print(random.choice(frutas))\n",
    "~~~~\n",
    "tuve que importar la libreria random "
   ]
  },
  {
   "cell_type": "code",
   "execution_count": 3,
   "id": "e3537220",
   "metadata": {},
   "outputs": [
    {
     "name": "stdout",
     "output_type": "stream",
     "text": [
      "['a', 'b', 'c', 'd', 'e', 'f', 'g', 'h', 'i', 'j', 'k', 'l', 'm', 'n', 'o', 'p', 'q', 'r', 's', 't', 'u', 'v', 'w', 'x', 'y', 'z', ' ']\n"
     ]
    }
   ],
   "source": [
    "import random #importamos random \n",
    "\n",
    "# 1ro obtenemos las letras\n",
    "def alfabeto():\n",
    "    letras = list(map(chr, range(97, 123)))\n",
    "    letras.append(\" \")\n",
    "    return letras\n",
    "#añadimos el caracter espacio \n",
    "print(alfabeto())\n",
    "\n",
    "\n",
    "# creamos el generador de oraciones\n",
    "\n",
    "\"\"\"\n",
    "lista_letras = generador(15, letras)\n",
    "print(pega_letras(lista_letras))\n",
    "\"\"\"\n",
    "# este es el generador 1 genera la secuencia de incio aleatoria \n",
    "def generador_1(tamaño, caracteres):\n",
    "    it = 0\n",
    "    oracion = []\n",
    "    while it != tamaño:\n",
    "        it = it + 1\n",
    "        oracion.append(random.choice(caracteres))\n",
    "        #print(oracion)\n",
    "    return oracion\n",
    "\n",
    "# generador vol que usara memoria \n",
    "def generador_2(intento, memoria, caracteres):\n",
    "    ite = 0\n",
    "    for mem in memoria:\n",
    "        if mem == 0:\n",
    "            intento[ite] = random.choice(caracteres)\n",
    "        ite = ite + 1\n",
    "    return intento\n",
    "\n",
    "\n",
    "# creamos una funcion que convierta la lista en una cadena de strings\n",
    "def pega_letras(lista):\n",
    "    cadena = \"\"\n",
    "    for a in lista:\n",
    "        cadena = cadena + a\n",
    "    return cadena \n"
   ]
  },
  {
   "cell_type": "markdown",
   "id": "b2c072c3",
   "metadata": {},
   "source": [
    "# es hora de crear un discriminador que dira si la secuencia generada se parace al objetivo\n",
    "\n",
    "## necesitamos una lista que sirva de memoria para recordadr la mejor secuencia producida \n",
    "en este punto me doy cuenta que como el modelo de GANs necesito una forma de informarle agenerador que debe modificar y que no debe por qeu ya esta bien, tal vez pueda hacerlo creando una lista de verificacion que diga el caracter de esta casilla ya no lo modifiques.   \n",
    "En resumen crearemos una lista que servira de memoria y comunicacion entre el generador y discriminador para mejorar lo producido cada iteracion generando algo de mejor calidad que la anterior. va a ser un vector de 1 y 0 (si y no ) \n",
    "\n",
    "### esta misma lista nos permitira evaluar el grado de avance en % del programa de forma facil \n",
    "\n",
    "\n",
    "#### mientras creas un modulo puedes poner lineas de print para evaluar si el codigo fucniona como planeas cada iteracion \n",
    "los print dentro del codigo te permitira ver que sucede en cada ciclo de ejecucion o como evoluicionan las variables a lo largo del tiempo usalas mientraes estes prototipando"
   ]
  },
  {
   "cell_type": "code",
   "execution_count": 4,
   "id": "b70e47bb",
   "metadata": {},
   "outputs": [
    {
     "name": "stdout",
     "output_type": "stream",
     "text": [
      "[0, 0, 0, 0, 0]\n"
     ]
    }
   ],
   "source": [
    "# creamos una funcoin que cree el vector de la memoria \n",
    "def memoria (tamaño):\n",
    "    memo = []\n",
    "    for a in range(tamaño):\n",
    "        memo.append(0)\n",
    "    return memo\n",
    "print(memoria(5))\n",
    "    "
   ]
  },
  {
   "cell_type": "code",
   "execution_count": 5,
   "id": "6802231a",
   "metadata": {},
   "outputs": [
    {
     "name": "stdout",
     "output_type": "stream",
     "text": [
      "g\n",
      "[0, 1, 1, 0]\n"
     ]
    },
    {
     "data": {
      "text/plain": [
       "'\\ncodigo para que use para hacer pruebas de funcionamiento \\nlista_1 = [\"a\", \"o\", \"l\", \"h\"]\\nlista_2 = [\"h\", \"o\", \"l\", \"a\"]\\nmemori = [0,0,0,0]\\ndiscriminador(lista_1, lista_2, memori)\\n'"
      ]
     },
     "execution_count": 5,
     "metadata": {},
     "output_type": "execute_result"
    }
   ],
   "source": [
    "#creamos el generador de la lista de memoria \n",
    "\n",
    "print(\"g\")\n",
    "#creamos el discriminador que evaluara si la oracion generada se parece al objetivo deseado\n",
    "def discriminador(intento, objetivo, memoria):\n",
    "    tamaño = len(intento)\n",
    "    contador = 0\n",
    "    for a in intento:\n",
    "        b = objetivo[contador]\n",
    "        if a == b: \n",
    "            memoria[contador] = 1\n",
    "        contador = contador + 1\n",
    "    return memoria\n",
    "\n",
    "\n",
    "\"\"\"\n",
    "codigo para evaluar si el algoritmo funciona bien en su ejecucion \n",
    "print(\"valor a: %s , valor b: %s , contador: %d \"%(a, b, contador))\n",
    "print(memoria)\n",
    "\"\"\"\n",
    "        \n",
    "lista_1 = [\"a\", \"o\", \"l\", \"h\"]\n",
    "lista_2 = [\"h\", \"o\", \"l\", \"a\"]\n",
    "memori = [0,0,0,0]\n",
    "print(discriminador(lista_1, lista_2, memori))\n",
    "\n",
    "\n",
    "\n",
    "\n",
    "\n",
    "\"\"\"\n",
    "codigo para que use para hacer pruebas de funcionamiento \n",
    "lista_1 = [\"a\", \"o\", \"l\", \"h\"]\n",
    "lista_2 = [\"h\", \"o\", \"l\", \"a\"]\n",
    "memori = [0,0,0,0]\n",
    "discriminador(lista_1, lista_2, memori)\n",
    "\"\"\"\n"
   ]
  },
  {
   "cell_type": "markdown",
   "id": "359025a7",
   "metadata": {},
   "source": [
    "# crearemos una funcion que nos permita evaluar el grado de avance en % basado en el vector memoria \n"
   ]
  },
  {
   "cell_type": "code",
   "execution_count": 6,
   "id": "41e23bc1",
   "metadata": {},
   "outputs": [
    {
     "name": "stdout",
     "output_type": "stream",
     "text": [
      "57\n"
     ]
    }
   ],
   "source": [
    "def evalua_avance(memoria):\n",
    "    tamaño = len(memoria)\n",
    "    avance = memoria.count(1)\n",
    "    \n",
    "    porcentaje = (100 * avance) / tamaño \n",
    "    \n",
    "    return int(porcentaje)\n",
    "    \n",
    "vec = [1, 1, 1,1, 0, 0, 0]    \n",
    "print(evalua_avance(vec))"
   ]
  },
  {
   "cell_type": "markdown",
   "id": "6c341ad8",
   "metadata": {},
   "source": [
    "# el ultimo paso es crear una funcion principal que una todos los modulos anteriores \n",
    "crearemos una funcion final que nos permita ver el unico parametro que se suministrara sera la cadena objetivo.\n"
   ]
  },
  {
   "cell_type": "code",
   "execution_count": 12,
   "id": "ff1d5ff8",
   "metadata": {},
   "outputs": [
    {
     "name": "stdout",
     "output_type": "stream",
     "text": [
      "dime que secuencia debe encontrar el mono infinito: yo creo que parece una comadreja\n",
      "['y', 'o', ' ', 'c', 'r', 'e', 'o', ' ', 'q', 'u', 'e', ' ', 'p', 'a', 'r', 'e', 'c', 'e', ' ', 'u', 'n', 'a', ' ', 'c', 'o', 'm', 'a', 'd', 'r', 'e', 'j', 'a']\n",
      " mono dice: rdrwhcyuf nhlfrywcmfdjvbxkefzwvd || avance: 0 || intento: 1\n",
      " mono dice: jd ikz lsjvewfrgbsy qnj   sxbbwx || avance: 3 || intento: 2\n",
      " mono dice:  t ogsebaj bpnrloufesxufbnvgy hx || avance: 6 || intento: 3\n",
      " mono dice: zf ljgb vvkiperod  eouqlcerlmqtk || avance: 9 || intento: 4\n",
      " mono dice: ge avrc umvmp rrps duigsjdbdoruh || avance: 15 || intento: 5\n",
      " mono dice: jz m xs  bhdpirsgu abnshnfvdilsg || avance: 18 || intento: 6\n",
      " mono dice: tf sgkz huatpyrrib jjtsb ttdtemt || avance: 18 || intento: 7\n",
      " mono dice: yc mlvz wuxjpjrucx nx dnxvsdjegb || avance: 25 || intento: 8\n",
      " mono dice: yu ekqi mudbpwroc  lfuaryendhedz || avance: 31 || intento: 9\n",
      " mono dice: ys sxiw buvophrhcp dfnrioagdyeon || avance: 31 || intento: 10\n",
      " mono dice: yr sntb ouckp rtcq vctybosydfe s || avance: 34 || intento: 11\n",
      " mono dice: yj lstr  uyepcrbcq  qaojokudxeid || avance: 34 || intento: 12\n",
      " mono dice: yz zwps turnpmrxch vladgogudueaf || avance: 37 || intento: 13\n",
      " mono dice: yn aghu quhbpnrlce sqakwouddfeat || avance: 37 || intento: 14\n",
      " mono dice: yy vcqz qutxpkrace rpaploaldheoc || avance: 43 || intento: 15\n",
      " mono dice: ym sniy quhnpyroce dyaezoprdteip || avance: 43 || intento: 16\n",
      " mono dice: ya tfth quyxplrcce ceakiotpddeug || avance: 43 || intento: 17\n",
      " mono dice: yj otrl quqvpvrice tvaewougdnepr || avance: 43 || intento: 18\n",
      " mono dice: ys rzhx quujpirbce zbaitosidcenv || avance: 43 || intento: 19\n",
      " mono dice: yy vrot qudzplrjce hvavroyfduewv || avance: 43 || intento: 20\n",
      " mono dice: yu  rks qucaptrtce vraffovxdxela || avance: 46 || intento: 21\n",
      " mono dice: ye krhy quohpmrmce qmajxobfdheja || avance: 50 || intento: 22\n",
      " mono dice: yd wrif qudcpurhce qzawdohxd eja || avance: 53 || intento: 23\n",
      " mono dice: yv kreu quolphrtce mqacposzd eja || avance: 53 || intento: 24\n",
      " mono dice: yf creu qubzplrcce nhagyojjdyeja || avance: 56 || intento: 25\n",
      " mono dice: yo cref qumcphrzce rtapfohtdfeja || avance: 59 || intento: 26\n",
      " mono dice: yo crea qulvpmrice jqab oqsdqeja || avance: 62 || intento: 27\n",
      " mono dice: yo creb quuoperbce onadkoohdfeja || avance: 62 || intento: 28\n",
      " mono dice: yo crep qul pdrcce dnadpovwdweja || avance: 65 || intento: 29\n",
      " mono dice: yo cree qut pvrbce nnaqoos deeja || avance: 68 || intento: 30\n",
      " mono dice: yo creo quh p rvce jnaxxobndmeja || avance: 68 || intento: 31\n",
      " mono dice: yo creo quj psrlce enazgolvdueja || avance: 71 || intento: 32\n",
      " mono dice: yo creo quq ptrfce inaweowudieja || avance: 71 || intento: 33\n",
      " mono dice: yo creo qux phrace wnauioiedaeja || avance: 71 || intento: 34\n",
      " mono dice: yo creo qum porhce dnanrooddheja || avance: 71 || intento: 35\n",
      " mono dice: yo creo qub pvrfce vnagmothdreja || avance: 71 || intento: 36\n",
      " mono dice: yo creo quh pjrsce enaeaogadreja || avance: 75 || intento: 37\n",
      " mono dice: yo creo qub pfrqce knam opadreja || avance: 78 || intento: 38\n",
      " mono dice: yo creo qu  ptrbce gnatxosadreja || avance: 78 || intento: 39\n",
      " mono dice: yo creo qui pbruce znaeeonadreja || avance: 78 || intento: 40\n",
      " mono dice: yo creo quy pwrrce enaogotadreja || avance: 78 || intento: 41\n",
      " mono dice: yo creo qud porice  nareotadreja || avance: 78 || intento: 42\n",
      " mono dice: yo creo que plruce rnaejoxadreja || avance: 78 || intento: 43\n",
      " mono dice: yo creo que pxrdce knadnoiadreja || avance: 81 || intento: 44\n",
      " mono dice: yo creo que phrjce xnajqojadreja || avance: 81 || intento: 45\n",
      " mono dice: yo creo que porkce cnamtodadreja || avance: 81 || intento: 46\n",
      " mono dice: yo creo que pmrdce  nafsoeadreja || avance: 81 || intento: 47\n",
      " mono dice: yo creo que phrqce cnag oqadreja || avance: 81 || intento: 48\n",
      " mono dice: yo creo que pfrtce snasxozadreja || avance: 81 || intento: 49\n",
      " mono dice: yo creo que ptrjce bnahyoqadreja || avance: 81 || intento: 50\n",
      " mono dice: yo creo que phrkce  nawtoiadreja || avance: 81 || intento: 51\n",
      " mono dice: yo creo que pkrdce vnadtocadreja || avance: 81 || intento: 52\n",
      " mono dice: yo creo que pcrice lnahjodadreja || avance: 81 || intento: 53\n",
      " mono dice: yo creo que pcrvce mnanqo adreja || avance: 81 || intento: 54\n",
      " mono dice: yo creo que pnrcce xnaxrocadreja || avance: 81 || intento: 55\n",
      " mono dice: yo creo que ptrhce rnanxooadreja || avance: 81 || intento: 56\n",
      " mono dice: yo creo que prr ce pnaisoqadreja || avance: 81 || intento: 57\n",
      " mono dice: yo creo que plrxce tnaggo adreja || avance: 81 || intento: 58\n",
      " mono dice: yo creo que psrgce snafio adreja || avance: 81 || intento: 59\n",
      " mono dice: yo creo que pertce anasoozadreja || avance: 81 || intento: 60\n",
      " mono dice: yo creo que ptrlce gnacwoqadreja || avance: 81 || intento: 61\n",
      " mono dice: yo creo que pfrdce  naobodadreja || avance: 81 || intento: 62\n",
      " mono dice: yo creo que pkrvce nnabzobadreja || avance: 81 || intento: 63\n",
      " mono dice: yo creo que p rdce anassocadreja || avance: 81 || intento: 64\n",
      " mono dice: yo creo que phrxce pnagwoyadreja || avance: 81 || intento: 65\n",
      " mono dice: yo creo que pyrdce onakuojadreja || avance: 81 || intento: 66\n",
      " mono dice: yo creo que pprbce una govadreja || avance: 81 || intento: 67\n",
      " mono dice: yo creo que pirzce una fohadreja || avance: 87 || intento: 68\n",
      " mono dice: yo creo que prrcce una gogadreja || avance: 87 || intento: 69\n",
      " mono dice: yo creo que pcrhce una vopadreja || avance: 87 || intento: 70\n",
      " mono dice: yo creo que paruce una lohadreja || avance: 87 || intento: 71\n",
      " mono dice: yo creo que parhce una fo adreja || avance: 90 || intento: 72\n",
      " mono dice: yo creo que parhce una uofadreja || avance: 90 || intento: 73\n",
      " mono dice: yo creo que pardce una yomadreja || avance: 90 || intento: 74\n",
      " mono dice: yo creo que parfce una homadreja || avance: 93 || intento: 75\n",
      " mono dice: yo creo que pardce una eomadreja || avance: 93 || intento: 76\n",
      " mono dice: yo creo que par ce una oomadreja || avance: 93 || intento: 77\n",
      " mono dice: yo creo que parjce una bomadreja || avance: 93 || intento: 78\n",
      " mono dice: yo creo que parsce una romadreja || avance: 93 || intento: 79\n",
      " mono dice: yo creo que parnce una aomadreja || avance: 93 || intento: 80\n",
      " mono dice: yo creo que parpce una nomadreja || avance: 93 || intento: 81\n",
      " mono dice: yo creo que parfce una womadreja || avance: 93 || intento: 82\n",
      " mono dice: yo creo que paroce una womadreja || avance: 93 || intento: 83\n",
      " mono dice: yo creo que paroce una romadreja || avance: 93 || intento: 84\n",
      " mono dice: yo creo que parqce una tomadreja || avance: 93 || intento: 85\n",
      " mono dice: yo creo que parhce una komadreja || avance: 93 || intento: 86\n",
      " mono dice: yo creo que parlce una homadreja || avance: 93 || intento: 87\n",
      " mono dice: yo creo que parice una comadreja || avance: 93 || intento: 88\n",
      " mono dice: yo creo que parjce una comadreja || avance: 96 || intento: 89\n",
      " mono dice: yo creo que parwce una comadreja || avance: 96 || intento: 90\n",
      " mono dice: yo creo que parlce una comadreja || avance: 96 || intento: 91\n",
      " mono dice: yo creo que parxce una comadreja || avance: 96 || intento: 92\n",
      " mono dice: yo creo que parqce una comadreja || avance: 96 || intento: 93\n",
      " mono dice: yo creo que parrce una comadreja || avance: 96 || intento: 94\n",
      " mono dice: yo creo que parrce una comadreja || avance: 96 || intento: 95\n",
      " mono dice: yo creo que paruce una comadreja || avance: 96 || intento: 96\n",
      " mono dice: yo creo que parlce una comadreja || avance: 96 || intento: 97\n",
      " mono dice: yo creo que pargce una comadreja || avance: 96 || intento: 98\n",
      " mono dice: yo creo que parwce una comadreja || avance: 96 || intento: 99\n",
      " mono dice: yo creo que parvce una comadreja || avance: 96 || intento: 100\n",
      " mono dice: yo creo que parace una comadreja || avance: 96 || intento: 101\n",
      " mono dice: yo creo que par ce una comadreja || avance: 96 || intento: 102\n",
      " mono dice: yo creo que parmce una comadreja || avance: 96 || intento: 103\n",
      " mono dice: yo creo que parzce una comadreja || avance: 96 || intento: 104\n",
      " mono dice: yo creo que paruce una comadreja || avance: 96 || intento: 105\n",
      " mono dice: yo creo que paroce una comadreja || avance: 96 || intento: 106\n",
      " mono dice: yo creo que paruce una comadreja || avance: 96 || intento: 107\n",
      " mono dice: yo creo que parpce una comadreja || avance: 96 || intento: 108\n",
      " mono dice: yo creo que parkce una comadreja || avance: 96 || intento: 109\n",
      " mono dice: yo creo que parace una comadreja || avance: 96 || intento: 110\n",
      " mono dice: yo creo que parlce una comadreja || avance: 96 || intento: 111\n",
      " mono dice: yo creo que parkce una comadreja || avance: 96 || intento: 112\n",
      " mono dice: yo creo que parqce una comadreja || avance: 96 || intento: 113\n",
      " mono dice: yo creo que parhce una comadreja || avance: 96 || intento: 114\n",
      " mono dice: yo creo que parece una comadreja || avance: 96 || intento: 115\n",
      "el mono lo logro\n"
     ]
    }
   ],
   "source": [
    "def principal():\n",
    "    # variables\n",
    "    caracteres = alfabeto()\n",
    "    \n",
    "    \n",
    "    objetivo = input(\"dime que secuencia debe encontrar el mono infinito: \")\n",
    "    #convertimos el input en lista \n",
    "    objetivo = list(objetivo)\n",
    "    print(objetivo)\n",
    "\n",
    "    # tamaño de la secuencia objetivo\n",
    "    tamaño = len(objetivo)\n",
    "    # generamos secuencia semilla inicial aleatoria \n",
    "    semilla = generador_1(tamaño, caracteres)\n",
    "    # creamos una memoria \n",
    "    memori = memoria(tamaño)\n",
    "    \n",
    "    memori = discriminador(semilla, objetivo, memori)\n",
    "    \n",
    "    # creamos una variable para que el algoritmo sepa que hacer la1ra iteracion \n",
    "    uno = 0 \n",
    "    while True:\n",
    "        avance = evalua_avance(memori)\n",
    "        \n",
    "        if avance == 100:\n",
    "            print(\"el mono lo logro\")\n",
    "            break\n",
    "        elif uno == 1000: \n",
    "            print(\"mono no pudo hacerlo\")\n",
    "        elif uno == 0:\n",
    "            intento = generador_2(semilla, memori, caracteres)        \n",
    "        elif uno != 0:\n",
    "            intento = generador_2(intento, memori, caracteres)            \n",
    "        uno = uno + 1\n",
    "        memori = discriminador(semilla, objetivo, memori)\n",
    "        \n",
    "        oracion = pega_letras(intento)\n",
    "        \n",
    "        print(\" mono dice: %s || avance: %d || intento: %d\"%(oracion, avance, uno))\n",
    "\n",
    "principal()\n",
    "            "
   ]
  },
  {
   "cell_type": "code",
   "execution_count": 8,
   "id": "128c2395",
   "metadata": {},
   "outputs": [
    {
     "name": "stdout",
     "output_type": "stream",
     "text": [
      "secuenciasss\n",
      "['s', 's', 's']\n"
     ]
    }
   ],
   "source": [
    "print(list(input(\"secuencia\")))"
   ]
  },
  {
   "cell_type": "markdown",
   "id": "635a50c7",
   "metadata": {},
   "source": [
    "# mejoras\n",
    "## claer output\n",
    "pudimos haber ocupado un borrador de out put pero el numero de iteraciones no es tan grande debido a que cree memoria en el programa y por lo tanto en cada iteracion el enunciado del mono es mejor o = que el anterior \n",
    "## optimizar dicionario para busqueda mas optima\n",
    "si quisieramos que el programa encontrara mas rapido la oracion objetivo, podriamos optimizar el diccionario. \n",
    "podriamos bucar en internet cual es la fecuencia con la que aparece una letra en un texto y dependiendo esa probabilidad podriamos agregar letras repetidas para que se presenten con mas frecuencia las que son mas comunes que aparezcan en un texto."
   ]
  },
  {
   "cell_type": "code",
   "execution_count": null,
   "id": "61007f2c",
   "metadata": {},
   "outputs": [],
   "source": []
  }
 ],
 "metadata": {
  "kernelspec": {
   "display_name": "Python 3 (ipykernel)",
   "language": "python",
   "name": "python3"
  },
  "language_info": {
   "codemirror_mode": {
    "name": "ipython",
    "version": 3
   },
   "file_extension": ".py",
   "mimetype": "text/x-python",
   "name": "python",
   "nbconvert_exporter": "python",
   "pygments_lexer": "ipython3",
   "version": "3.9.7"
  }
 },
 "nbformat": 4,
 "nbformat_minor": 5
}
